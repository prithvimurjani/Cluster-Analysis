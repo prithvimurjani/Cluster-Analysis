{
  "nbformat": 4,
  "nbformat_minor": 0,
  "metadata": {
    "colab": {
      "name": "K-MeansClustering basics.ipynb",
      "provenance": [],
      "collapsed_sections": []
    },
    "kernelspec": {
      "name": "python3",
      "display_name": "Python 3"
    },
    "language_info": {
      "name": "python"
    }
  },
  "cells": [
    {
      "cell_type": "code",
      "metadata": {
        "id": "NGaMWaxmjONN"
      },
      "source": [
        "import numpy as np\n",
        "import matplotlib.pyplot as plt\n",
        "from sklearn.cluster import KMeans\n",
        "from sklearn import metrics"
      ],
      "execution_count": 1,
      "outputs": []
    },
    {
      "cell_type": "code",
      "metadata": {
        "id": "m-A_aqrAjgFf",
        "colab": {
          "base_uri": "https://localhost:8080/"
        },
        "outputId": "e3c4bd1c-c365-4501-fc49-3dcbfc35cccc"
      },
      "source": [
        "# Load input data\n",
        "X = np.loadtxt('data_clustering.txt', delimiter=',')\n",
        "X"
      ],
      "execution_count": 2,
      "outputs": [
        {
          "output_type": "execute_result",
          "data": {
            "text/plain": [
              "array([[ 2.08,  1.05],\n",
              "       [ 2.05,  7.7 ],\n",
              "       [ 4.53,  5.49],\n",
              "       [ 6.23,  1.02],\n",
              "       [ 5.35,  7.86],\n",
              "       [ 2.88,  0.79],\n",
              "       [ 2.32,  8.5 ],\n",
              "       [ 5.06,  5.65],\n",
              "       [ 5.38,  3.53],\n",
              "       [ 6.31,  9.73],\n",
              "       [ 3.41,  2.05],\n",
              "       [ 1.75,  7.38],\n",
              "       [ 3.88,  5.73],\n",
              "       [ 7.22,  2.88],\n",
              "       [ 5.85,  9.11],\n",
              "       [ 3.66,  2.38],\n",
              "       [ 0.45,  7.99],\n",
              "       [ 6.01,  5.83],\n",
              "       [ 7.06,  2.41],\n",
              "       [ 7.47,  8.97],\n",
              "       [ 2.2 ,  2.71],\n",
              "       [ 2.94,  8.71],\n",
              "       [ 5.87,  4.56],\n",
              "       [ 4.57,  1.33],\n",
              "       [ 5.84,  6.54],\n",
              "       [ 3.4 ,  1.  ],\n",
              "       [ 1.44,  8.26],\n",
              "       [ 4.29,  4.69],\n",
              "       [ 8.09,  1.99],\n",
              "       [ 6.48,  9.44],\n",
              "       [ 2.94,  1.78],\n",
              "       [ 0.41,  9.14],\n",
              "       [ 5.42,  4.08],\n",
              "       [ 7.47,  2.15],\n",
              "       [ 5.62,  7.65],\n",
              "       [ 3.71,  1.26],\n",
              "       [ 0.41,  8.9 ],\n",
              "       [ 4.93,  5.73],\n",
              "       [ 7.23,  0.14],\n",
              "       [ 6.77,  9.09],\n",
              "       [ 3.23,  2.64],\n",
              "       [ 1.61,  7.85],\n",
              "       [ 4.7 ,  4.78],\n",
              "       [ 6.86,  2.21],\n",
              "       [ 5.2 ,  9.65],\n",
              "       [ 1.53,  2.93],\n",
              "       [ 0.27,  9.38],\n",
              "       [ 6.17,  5.74],\n",
              "       [ 8.47,  2.44],\n",
              "       [ 5.23,  7.41],\n",
              "       [ 3.27,  1.63],\n",
              "       [ 1.52,  8.8 ],\n",
              "       [ 5.49,  4.5 ],\n",
              "       [ 5.47,  2.81],\n",
              "       [ 5.43,  7.45],\n",
              "       [ 2.51,  2.84],\n",
              "       [ 2.07,  7.67],\n",
              "       [ 5.21,  3.99],\n",
              "       [ 7.05,  3.  ],\n",
              "       [ 6.09,  9.39],\n",
              "       [ 2.65,  2.46],\n",
              "       [ 3.18,  8.62],\n",
              "       [ 5.11,  4.49],\n",
              "       [ 7.87,  1.69],\n",
              "       [ 6.51,  8.04],\n",
              "       [ 2.72,  1.67],\n",
              "       [ 1.79,  7.94],\n",
              "       [ 4.48,  6.06],\n",
              "       [ 5.7 ,  2.29],\n",
              "       [ 7.43,  8.76],\n",
              "       [ 3.25,  2.99],\n",
              "       [ 2.47,  7.78],\n",
              "       [ 4.36,  6.1 ],\n",
              "       [ 6.75,  0.96],\n",
              "       [ 7.81,  7.9 ],\n",
              "       [ 1.98,  1.96],\n",
              "       [ 2.07,  7.9 ],\n",
              "       [ 5.18,  7.47],\n",
              "       [ 6.52,  3.06],\n",
              "       [ 5.49,  9.55],\n",
              "       [ 2.93,  2.61],\n",
              "       [ 1.81,  9.27],\n",
              "       [ 6.22,  4.35],\n",
              "       [ 7.31,  3.41],\n",
              "       [ 7.41,  9.02],\n",
              "       [ 2.89,  2.36],\n",
              "       [ 3.03,  8.08],\n",
              "       [ 6.31,  5.32],\n",
              "       [ 7.63,  1.3 ],\n",
              "       [ 5.99,  8.5 ],\n",
              "       [ 2.38,  2.42],\n",
              "       [ 1.98,  8.09],\n",
              "       [ 3.81,  5.2 ],\n",
              "       [ 6.67,  2.11],\n",
              "       [ 8.17,  8.57],\n",
              "       [ 2.37,  0.62],\n",
              "       [ 2.62,  7.26],\n",
              "       [ 5.6 ,  4.33],\n",
              "       [ 6.47,  1.77],\n",
              "       [ 4.48,  8.55],\n",
              "       [ 2.91,  2.16],\n",
              "       [ 2.13,  8.64],\n",
              "       [ 4.01,  4.24],\n",
              "       [ 7.55,  2.06],\n",
              "       [ 6.65,  8.99],\n",
              "       [ 4.13,  1.76],\n",
              "       [ 0.67,  7.53],\n",
              "       [ 4.47,  4.57],\n",
              "       [ 7.18,  3.  ],\n",
              "       [ 6.  ,  8.5 ],\n",
              "       [ 3.89,  3.09],\n",
              "       [ 2.82,  7.58],\n",
              "       [ 4.97,  4.67],\n",
              "       [ 6.56,  2.24],\n",
              "       [ 5.52,  8.23],\n",
              "       [ 2.8 ,  1.41],\n",
              "       [ 1.49,  7.08],\n",
              "       [ 3.59,  6.74],\n",
              "       [ 7.07,  1.07],\n",
              "       [ 5.43,  8.66],\n",
              "       [ 2.94,  2.23],\n",
              "       [ 2.3 ,  8.8 ],\n",
              "       [ 4.79,  3.84],\n",
              "       [ 7.37,  1.64],\n",
              "       [ 7.38,  7.37],\n",
              "       [ 1.78,  2.  ],\n",
              "       [ 2.33,  8.15],\n",
              "       [ 5.88,  5.78],\n",
              "       [ 6.86,  3.37],\n",
              "       [ 6.74,  9.56],\n",
              "       [ 2.97,  0.43],\n",
              "       [ 2.06,  9.18],\n",
              "       [ 3.79,  5.  ],\n",
              "       [ 7.4 ,  2.94],\n",
              "       [ 6.7 ,  9.66],\n",
              "       [ 2.21,  1.08],\n",
              "       [ 1.48,  6.75],\n",
              "       [ 3.18,  5.36],\n",
              "       [ 8.3 ,  2.54],\n",
              "       [ 6.78,  8.1 ],\n",
              "       [ 3.92,  1.94],\n",
              "       [ 1.53,  7.74],\n",
              "       [ 5.2 ,  3.8 ],\n",
              "       [ 6.98,  3.27],\n",
              "       [ 5.  ,  7.96],\n",
              "       [ 2.47,  1.18],\n",
              "       [ 1.18,  8.39],\n",
              "       [ 4.76,  4.11],\n",
              "       [ 7.87,  1.52],\n",
              "       [ 6.11,  8.46],\n",
              "       [ 3.47,  2.11],\n",
              "       [ 1.95,  8.25],\n",
              "       [ 5.14,  6.24],\n",
              "       [ 7.2 ,  2.76],\n",
              "       [ 5.95,  8.97],\n",
              "       [ 2.38,  3.12],\n",
              "       [ 2.43,  9.13],\n",
              "       [ 5.72,  6.07],\n",
              "       [ 7.73,  1.82],\n",
              "       [ 6.69,  8.79],\n",
              "       [ 2.64,  2.08],\n",
              "       [ 1.97,  8.67],\n",
              "       [ 4.87,  4.65],\n",
              "       [ 6.5 ,  2.89],\n",
              "       [ 6.97,  7.82],\n",
              "       [ 2.18,  2.97],\n",
              "       [ 1.5 ,  7.46],\n",
              "       [ 4.51,  5.35],\n",
              "       [ 8.63,  1.22],\n",
              "       [ 6.16,  8.02],\n",
              "       [ 3.62,  1.02],\n",
              "       [ 2.43,  8.03],\n",
              "       [ 5.03,  5.65],\n",
              "       [ 7.2 ,  0.99],\n",
              "       [ 6.26,  8.23],\n",
              "       [ 2.9 ,  2.19],\n",
              "       [ 1.43,  7.25],\n",
              "       [ 2.95,  5.06],\n",
              "       [ 7.34, -0.29],\n",
              "       [ 7.74,  7.58],\n",
              "       [ 4.1 ,  1.18],\n",
              "       [ 2.03,  7.97],\n",
              "       [ 5.25,  3.69],\n",
              "       [ 5.98,  2.28],\n",
              "       [ 4.28,  8.34],\n",
              "       [ 2.73,  0.95],\n",
              "       [ 3.6 ,  7.48],\n",
              "       [ 5.85,  4.74],\n",
              "       [ 7.32,  1.86],\n",
              "       [ 6.39, 10.29],\n",
              "       [ 1.72,  2.47],\n",
              "       [ 2.28,  6.28],\n",
              "       [ 4.29,  3.8 ],\n",
              "       [ 6.31,  2.32],\n",
              "       [ 5.54,  8.5 ],\n",
              "       [ 2.24,  1.06],\n",
              "       [ 1.99,  8.47],\n",
              "       [ 6.16,  6.37],\n",
              "       [ 7.83,  2.99],\n",
              "       [ 7.  , 10.32],\n",
              "       [ 2.95,  0.95],\n",
              "       [ 1.22,  7.99],\n",
              "       [ 5.07,  3.88],\n",
              "       [ 6.84,  1.41],\n",
              "       [ 6.23,  8.73],\n",
              "       [ 3.06,  1.76],\n",
              "       [ 2.62,  8.  ],\n",
              "       [ 3.96,  3.63],\n",
              "       [ 6.96,  1.18],\n",
              "       [ 6.95,  7.74],\n",
              "       [ 4.13,  1.52],\n",
              "       [ 1.99,  7.35],\n",
              "       [ 3.  ,  4.86],\n",
              "       [ 7.01,  1.86],\n",
              "       [ 6.46, 10.2 ],\n",
              "       [ 2.43,  2.99],\n",
              "       [ 2.84,  8.28],\n",
              "       [ 4.48,  4.89],\n",
              "       [ 5.57,  1.95],\n",
              "       [ 5.67,  8.35],\n",
              "       [ 3.15,  3.19],\n",
              "       [-0.4 ,  6.  ],\n",
              "       [ 5.07,  5.03],\n",
              "       [ 6.73,  3.09],\n",
              "       [ 5.48,  8.47],\n",
              "       [ 3.13,  2.67],\n",
              "       [ 1.71,  8.96],\n",
              "       [ 4.96,  4.71],\n",
              "       [ 6.64,  0.64],\n",
              "       [ 6.22,  8.76],\n",
              "       [ 3.25,  1.56],\n",
              "       [ 1.92,  7.36],\n",
              "       [ 3.65,  6.42],\n",
              "       [ 6.78,  1.34],\n",
              "       [ 5.13,  8.29],\n",
              "       [ 4.05,  3.39],\n",
              "       [ 2.96,  7.27],\n",
              "       [ 5.4 ,  3.25],\n",
              "       [ 7.18,  1.88],\n",
              "       [ 6.35,  8.76],\n",
              "       [ 3.12,  1.8 ],\n",
              "       [ 2.14,  7.26],\n",
              "       [ 5.3 ,  6.22],\n",
              "       [ 7.96,  2.05],\n",
              "       [ 5.04,  8.29],\n",
              "       [ 3.35,  2.25],\n",
              "       [ 2.41,  7.15],\n",
              "       [ 4.77,  5.88],\n",
              "       [ 8.33,  0.8 ],\n",
              "       [ 6.33,  7.89],\n",
              "       [ 2.97,  1.6 ],\n",
              "       [ 2.1 ,  9.45],\n",
              "       [ 5.15,  4.64],\n",
              "       [ 6.12,  1.15],\n",
              "       [ 5.69,  7.85],\n",
              "       [ 2.66,  1.65],\n",
              "       [ 2.58,  9.44],\n",
              "       [ 3.69,  6.13],\n",
              "       [ 7.91,  1.87],\n",
              "       [ 6.41,  8.98],\n",
              "       [ 3.4 ,  2.29],\n",
              "       [ 1.78,  8.41],\n",
              "       [ 4.16,  5.54],\n",
              "       [ 8.12,  1.47],\n",
              "       [ 6.49,  9.06],\n",
              "       [ 2.69,  0.11],\n",
              "       [ 2.14,  7.91],\n",
              "       [ 3.37,  4.54],\n",
              "       [ 5.48,  2.5 ],\n",
              "       [ 5.7 ,  8.79],\n",
              "       [ 2.75,  1.54],\n",
              "       [ 2.41,  8.53],\n",
              "       [ 5.2 ,  6.55],\n",
              "       [ 8.32,  2.52],\n",
              "       [ 5.62,  8.16],\n",
              "       [ 1.71,  1.31],\n",
              "       [ 4.28,  8.78],\n",
              "       [ 4.58,  5.78],\n",
              "       [ 6.65,  1.6 ],\n",
              "       [ 6.21,  8.06],\n",
              "       [ 2.47,  1.52],\n",
              "       [ 2.42,  7.26],\n",
              "       [ 4.5 ,  5.92],\n",
              "       [ 6.8 ,  2.78],\n",
              "       [ 6.  ,  7.14],\n",
              "       [ 2.74,  2.14],\n",
              "       [ 3.62,  8.25],\n",
              "       [ 4.36,  5.12],\n",
              "       [ 6.8 ,  2.11],\n",
              "       [ 5.78,  9.74],\n",
              "       [ 3.53,  1.11],\n",
              "       [ 2.33,  7.38],\n",
              "       [ 5.76,  3.81],\n",
              "       [ 5.96,  2.2 ],\n",
              "       [ 6.84,  8.65],\n",
              "       [ 3.43,  3.32],\n",
              "       [ 0.85,  7.73],\n",
              "       [ 6.05,  3.98],\n",
              "       [ 7.73,  1.81],\n",
              "       [ 6.77,  6.3 ],\n",
              "       [ 3.47,  3.03],\n",
              "       [-0.09,  8.96],\n",
              "       [ 6.21,  5.51],\n",
              "       [ 7.7 ,  3.05],\n",
              "       [ 5.13,  8.64],\n",
              "       [ 3.  ,  2.39],\n",
              "       [ 3.06,  7.95],\n",
              "       [ 5.85,  3.81],\n",
              "       [ 6.73,  1.62],\n",
              "       [ 5.62,  7.92],\n",
              "       [ 2.  ,  3.45],\n",
              "       [ 2.42,  8.11],\n",
              "       [ 4.14,  5.9 ],\n",
              "       [ 6.65,  0.53],\n",
              "       [ 5.88,  8.84],\n",
              "       [ 4.21,  2.23],\n",
              "       [ 3.05,  8.45],\n",
              "       [ 5.69,  3.86],\n",
              "       [ 7.44,  1.18],\n",
              "       [ 6.55,  7.82],\n",
              "       [ 3.37,  1.42],\n",
              "       [ 1.57,  9.5 ],\n",
              "       [ 5.46,  5.84],\n",
              "       [ 7.45,  3.38],\n",
              "       [ 5.59,  7.27],\n",
              "       [ 2.51,  1.51],\n",
              "       [ 2.85,  7.59],\n",
              "       [ 5.12,  5.29],\n",
              "       [ 6.54,  2.08],\n",
              "       [ 5.92,  8.45],\n",
              "       [ 3.23,  1.37],\n",
              "       [ 2.02,  7.96],\n",
              "       [ 4.69,  4.21],\n",
              "       [ 7.57,  2.38],\n",
              "       [ 6.76,  8.69],\n",
              "       [ 2.22,  2.23],\n",
              "       [ 0.15,  8.2 ],\n",
              "       [ 3.72,  5.25],\n",
              "       [ 7.33,  2.47],\n",
              "       [ 6.27,  8.72],\n",
              "       [ 4.59,  2.88],\n",
              "       [ 1.72,  7.78],\n",
              "       [ 4.3 ,  4.46],\n",
              "       [ 7.43,  1.07],\n",
              "       [ 5.83,  9.42],\n",
              "       [ 2.92,  2.97],\n",
              "       [ 3.1 ,  8.19],\n",
              "       [ 5.83,  5.42],\n",
              "       [ 6.54,  3.08],\n",
              "       [ 5.6 ,  9.98]])"
            ]
          },
          "metadata": {},
          "execution_count": 2
        }
      ]
    },
    {
      "cell_type": "code",
      "metadata": {
        "colab": {
          "base_uri": "https://localhost:8080/"
        },
        "id": "o48eSrZTkOju",
        "outputId": "7ea678c5-e545-4385-b1ab-d095728d9383"
      },
      "source": [
        "X.shape"
      ],
      "execution_count": 3,
      "outputs": [
        {
          "output_type": "execute_result",
          "data": {
            "text/plain": [
              "(350, 2)"
            ]
          },
          "metadata": {},
          "execution_count": 3
        }
      ]
    },
    {
      "cell_type": "code",
      "metadata": {
        "colab": {
          "base_uri": "https://localhost:8080/",
          "height": 281
        },
        "id": "oIVXBsh3kPT0",
        "outputId": "24eebae9-e06c-411b-d82e-16b74c39fcfa"
      },
      "source": [
        "# Plot input data\n",
        "plt.figure()\n",
        "plt.scatter(X[:,0], X[:,1], marker='*', facecolors='blue', \n",
        "        edgecolors='red', s=60)\n",
        "x_min, x_max = X[:, 0].min() - 1, X[:, 0].max() + 1\n",
        "y_min, y_max = X[:, 1].min() - 1, X[:, 1].max() + 1\n",
        "\n",
        "plt.title('Given Input data')\n",
        "plt.xlim(x_min, x_max)\n",
        "plt.ylim(y_min, y_max)\n",
        "\n",
        "plt.xticks()\n",
        "plt.yticks()\n",
        "\n",
        "plt.show()"
      ],
      "execution_count": 4,
      "outputs": [
        {
          "output_type": "display_data",
          "data": {
            "image/png": "[encoded data removed]",
            "text/plain": [
              "<Figure size 432x288 with 1 Axes>"
            ]
          },
          "metadata": {
            "needs_background": "light"
          }
        }
      ]
    },
    {
      "cell_type": "code",
      "metadata": {
        "id": "leyfvMuPkek9"
      },
      "source": [
        "num_clusters = 5"
      ],
      "execution_count": 5,
      "outputs": []
    },
    {
      "cell_type": "code",
      "metadata": {
        "colab": {
          "base_uri": "https://localhost:8080/"
        },
        "id": "_YASfxvZnG25",
        "outputId": "80114faf-a99d-4019-9536-830678d29ea3"
      },
      "source": [
        "# Create KMeans object \n",
        "kmeans = KMeans(init='k-means++', n_clusters=num_clusters, n_init=10, verbose=2)\n",
        "\n",
        "# Train the KMeans clustering model\n",
        "kmeans.fit(X)"
      ],
      "execution_count": 6,
      "outputs": [
        {
          "output_type": "stream",
          "name": "stdout",
          "text": [
            "Initialization complete\n",
            "start iteration\n",
            "done sorting\n",
            "end inner loop\n",
            "Iteration 0, inertia 466.4964238639579\n",
            "start iteration\n",
            "done sorting\n",
            "end inner loop\n",
            "Iteration 1, inertia 433.95982455648925\n",
            "start iteration\n",
            "done sorting\n",
            "end inner loop\n",
            "Iteration 2, inertia 433.80300829447276\n",
            "start iteration\n",
            "done sorting\n",
            "end inner loop\n",
            "Iteration 3, inertia 433.80300829447276\n",
            "center shift 0.000000e+00 within tolerance 6.415290e-04\n",
            "Initialization complete\n",
            "start iteration\n",
            "done sorting\n",
            "end inner loop\n",
            "Iteration 0, inertia 564.5360500450673\n",
            "start iteration\n",
            "done sorting\n",
            "end inner loop\n",
            "Iteration 1, inertia 444.8904473886693\n",
            "start iteration\n",
            "done sorting\n",
            "end inner loop\n",
            "Iteration 2, inertia 433.80300829447276\n",
            "start iteration\n",
            "done sorting\n",
            "end inner loop\n",
            "Iteration 3, inertia 433.80300829447276\n",
            "center shift 0.000000e+00 within tolerance 6.415290e-04\n",
            "Initialization complete\n",
            "start iteration\n",
            "done sorting\n",
            "end inner loop\n",
            "Iteration 0, inertia 443.9628217928777\n",
            "start iteration\n",
            "done sorting\n",
            "end inner loop\n",
            "Iteration 1, inertia 434.98963027077497\n",
            "start iteration\n",
            "done sorting\n",
            "end inner loop\n",
            "Iteration 2, inertia 434.3173276506095\n",
            "start iteration\n",
            "done sorting\n",
            "end inner loop\n",
            "Iteration 3, inertia 433.95982455648925\n",
            "start iteration\n",
            "done sorting\n",
            "end inner loop\n",
            "Iteration 4, inertia 433.80300829447276\n",
            "start iteration\n",
            "done sorting\n",
            "end inner loop\n",
            "Iteration 5, inertia 433.80300829447276\n",
            "center shift 0.000000e+00 within tolerance 6.415290e-04\n",
            "Initialization complete\n",
            "start iteration\n",
            "done sorting\n",
            "end inner loop\n",
            "Iteration 0, inertia 445.91396501498014\n",
            "start iteration\n",
            "done sorting\n",
            "end inner loop\n",
            "Iteration 1, inertia 434.3173276506095\n",
            "start iteration\n",
            "done sorting\n",
            "end inner loop\n",
            "Iteration 2, inertia 433.95982455648925\n",
            "start iteration\n",
            "done sorting\n",
            "end inner loop\n",
            "Iteration 3, inertia 433.80300829447276\n",
            "start iteration\n",
            "done sorting\n",
            "end inner loop\n",
            "Iteration 4, inertia 433.80300829447276\n",
            "center shift 0.000000e+00 within tolerance 6.415290e-04\n",
            "Initialization complete\n",
            "start iteration\n",
            "done sorting\n",
            "end inner loop\n",
            "Iteration 0, inertia 457.27500346534106\n",
            "start iteration\n",
            "done sorting\n",
            "end inner loop\n",
            "Iteration 1, inertia 434.3173276506095\n",
            "start iteration\n",
            "done sorting\n",
            "end inner loop\n",
            "Iteration 2, inertia 433.95982455648925\n",
            "start iteration\n",
            "done sorting\n",
            "end inner loop\n",
            "Iteration 3, inertia 433.80300829447276\n",
            "start iteration\n",
            "done sorting\n",
            "end inner loop\n",
            "Iteration 4, inertia 433.80300829447276\n",
            "center shift 0.000000e+00 within tolerance 6.415290e-04\n",
            "Initialization complete\n",
            "start iteration\n",
            "done sorting\n",
            "end inner loop\n",
            "Iteration 0, inertia 809.9943108525239\n",
            "start iteration\n",
            "done sorting\n",
            "end inner loop\n",
            "Iteration 1, inertia 597.526150151238\n",
            "start iteration\n",
            "done sorting\n",
            "end inner loop\n",
            "Iteration 2, inertia 472.58531875938786\n",
            "start iteration\n",
            "done sorting\n",
            "end inner loop\n",
            "Iteration 3, inertia 437.898029516909\n",
            "start iteration\n",
            "done sorting\n",
            "end inner loop\n",
            "Iteration 4, inertia 434.3173276506095\n",
            "start iteration\n",
            "done sorting\n",
            "end inner loop\n",
            "Iteration 5, inertia 433.95982455648925\n",
            "start iteration\n",
            "done sorting\n",
            "end inner loop\n",
            "Iteration 6, inertia 433.80300829447276\n",
            "start iteration\n",
            "done sorting\n",
            "end inner loop\n",
            "Iteration 7, inertia 433.80300829447276\n",
            "center shift 0.000000e+00 within tolerance 6.415290e-04\n",
            "Initialization complete\n",
            "start iteration\n",
            "done sorting\n",
            "end inner loop\n",
            "Iteration 0, inertia 615.9716050085256\n",
            "start iteration\n",
            "done sorting\n",
            "end inner loop\n",
            "Iteration 1, inertia 449.1820939493979\n",
            "start iteration\n",
            "done sorting\n",
            "end inner loop\n",
            "Iteration 2, inertia 433.80300829447276\n",
            "start iteration\n",
            "done sorting\n",
            "end inner loop\n",
            "Iteration 3, inertia 433.80300829447276\n",
            "center shift 0.000000e+00 within tolerance 6.415290e-04\n",
            "Initialization complete\n",
            "start iteration\n",
            "done sorting\n",
            "end inner loop\n",
            "Iteration 0, inertia 524.192868859454\n",
            "start iteration\n",
            "done sorting\n",
            "end inner loop\n",
            "Iteration 1, inertia 438.6697485269357\n",
            "start iteration\n",
            "done sorting\n",
            "end inner loop\n",
            "Iteration 2, inertia 433.95982455648925\n",
            "start iteration\n",
            "done sorting\n",
            "end inner loop\n",
            "Iteration 3, inertia 433.80300829447276\n",
            "start iteration\n",
            "done sorting\n",
            "end inner loop\n",
            "Iteration 4, inertia 433.80300829447276\n",
            "center shift 0.000000e+00 within tolerance 6.415290e-04\n",
            "Initialization complete\n",
            "start iteration\n",
            "done sorting\n",
            "end inner loop\n",
            "Iteration 0, inertia 620.0222925967\n",
            "start iteration\n",
            "done sorting\n",
            "end inner loop\n",
            "Iteration 1, inertia 450.09816176955854\n",
            "start iteration\n",
            "done sorting\n",
            "end inner loop\n",
            "Iteration 2, inertia 435.7370757010377\n",
            "start iteration\n",
            "done sorting\n",
            "end inner loop\n",
            "Iteration 3, inertia 434.3173276506095\n",
            "start iteration\n",
            "done sorting\n",
            "end inner loop\n",
            "Iteration 4, inertia 433.95982455648925\n",
            "start iteration\n",
            "done sorting\n",
            "end inner loop\n",
            "Iteration 5, inertia 433.80300829447276\n",
            "start iteration\n",
            "done sorting\n",
            "end inner loop\n",
            "Iteration 6, inertia 433.80300829447276\n",
            "center shift 0.000000e+00 within tolerance 6.415290e-04\n",
            "Initialization complete\n",
            "start iteration\n",
            "done sorting\n",
            "end inner loop\n",
            "Iteration 0, inertia 453.2420735325429\n",
            "start iteration\n",
            "done sorting\n",
            "end inner loop\n",
            "Iteration 1, inertia 433.95982455648925\n",
            "start iteration\n",
            "done sorting\n",
            "end inner loop\n",
            "Iteration 2, inertia 433.80300829447276\n",
            "start iteration\n",
            "done sorting\n",
            "end inner loop\n",
            "Iteration 3, inertia 433.80300829447276\n",
            "center shift 0.000000e+00 within tolerance 6.415290e-04\n"
          ]
        },
        {
          "output_type": "execute_result",
          "data": {
            "text/plain": [
              "KMeans(algorithm='auto', copy_x=True, init='k-means++', max_iter=300,\n",
              "       n_clusters=5, n_init=10, n_jobs=None, precompute_distances='auto',\n",
              "       random_state=None, tol=0.0001, verbose=2)"
            ]
          },
          "metadata": {},
          "execution_count": 6
        }
      ]
    },
    {
      "cell_type": "code",
      "metadata": {
        "id": "2qmh_GHknL_i"
      },
      "source": [
        "# Step size of the mesh\n",
        "step_size = 0.01\n",
        "\n",
        "# Define the grid of points to plot the boundaries\n",
        "x_min, x_max = X[:, 0].min() - 1, X[:, 0].max() + 1\n",
        "y_min, y_max = X[:, 1].min() - 1, X[:, 1].max() + 1\n",
        "\n",
        "x_vals, y_vals = np.meshgrid(np.arange(x_min, x_max, step_size), \n",
        "        np.arange(y_min, y_max, step_size))"
      ],
      "execution_count": 7,
      "outputs": []
    },
    {
      "cell_type": "code",
      "metadata": {
        "colab": {
          "base_uri": "https://localhost:8080/"
        },
        "id": "eIzE3MY4qHfw",
        "outputId": "890af9ae-d03f-40b8-baf0-b15ad5dc332f"
      },
      "source": [
        "x_vals.shape"
      ],
      "execution_count": 8,
      "outputs": [
        {
          "output_type": "execute_result",
          "data": {
            "text/plain": [
              "(1261, 1103)"
            ]
          },
          "metadata": {},
          "execution_count": 8
        }
      ]
    },
    {
      "cell_type": "code",
      "metadata": {
        "colab": {
          "base_uri": "https://localhost:8080/"
        },
        "id": "8OV-fYGiqHeQ",
        "outputId": "f793fb61-6242-41e0-dda0-3e90f669fb71"
      },
      "source": [
        "y_vals.shape"
      ],
      "execution_count": 9,
      "outputs": [
        {
          "output_type": "execute_result",
          "data": {
            "text/plain": [
              "(1261, 1103)"
            ]
          },
          "metadata": {},
          "execution_count": 9
        }
      ]
    },
    {
      "cell_type": "code",
      "metadata": {
        "colab": {
          "base_uri": "https://localhost:8080/"
        },
        "id": "PPxIFia2qVWU",
        "outputId": "0a1bb9ff-c69c-4949-da3d-179901ec71ad"
      },
      "source": [
        "x_vals"
      ],
      "execution_count": 10,
      "outputs": [
        {
          "output_type": "execute_result",
          "data": {
            "text/plain": [
              "array([[-1.4 , -1.39, -1.38, ...,  9.6 ,  9.61,  9.62],\n",
              "       [-1.4 , -1.39, -1.38, ...,  9.6 ,  9.61,  9.62],\n",
              "       [-1.4 , -1.39, -1.38, ...,  9.6 ,  9.61,  9.62],\n",
              "       ...,\n",
              "       [-1.4 , -1.39, -1.38, ...,  9.6 ,  9.61,  9.62],\n",
              "       [-1.4 , -1.39, -1.38, ...,  9.6 ,  9.61,  9.62],\n",
              "       [-1.4 , -1.39, -1.38, ...,  9.6 ,  9.61,  9.62]])"
            ]
          },
          "metadata": {},
          "execution_count": 10
        }
      ]
    },
    {
      "cell_type": "code",
      "metadata": {
        "colab": {
          "base_uri": "https://localhost:8080/"
        },
        "id": "aZvXG9KAqO1f",
        "outputId": "c5f21652-0809-4936-969c-957b893e9912"
      },
      "source": [
        "x_vals.ravel()"
      ],
      "execution_count": 11,
      "outputs": [
        {
          "output_type": "execute_result",
          "data": {
            "text/plain": [
              "array([-1.4 , -1.39, -1.38, ...,  9.6 ,  9.61,  9.62])"
            ]
          },
          "metadata": {},
          "execution_count": 11
        }
      ]
    },
    {
      "cell_type": "code",
      "metadata": {
        "id": "4J4R9PoapM0A"
      },
      "source": [
        "# Predict output labels for all the points on the grid \n",
        "output = kmeans.predict(np.c_[x_vals.ravel(), y_vals.ravel()])"
      ],
      "execution_count": 12,
      "outputs": []
    },
    {
      "cell_type": "code",
      "metadata": {
        "colab": {
          "base_uri": "https://localhost:8080/"
        },
        "id": "Lpm0LIzWqEfC",
        "outputId": "953ea67c-ef07-4815-aa66-455210c1a6aa"
      },
      "source": [
        "print(output)"
      ],
      "execution_count": 13,
      "outputs": [
        {
          "output_type": "stream",
          "name": "stdout",
          "text": [
            "[4 4 4 ... 1 1 1]\n"
          ]
        }
      ]
    },
    {
      "cell_type": "code",
      "metadata": {
        "colab": {
          "base_uri": "https://localhost:8080/"
        },
        "id": "vNL4EFA7qEde",
        "outputId": "15544343-2d2f-4c85-fb3b-87314ab709c2"
      },
      "source": [
        "output.shape"
      ],
      "execution_count": 14,
      "outputs": [
        {
          "output_type": "execute_result",
          "data": {
            "text/plain": [
              "(1390883,)"
            ]
          },
          "metadata": {},
          "execution_count": 14
        }
      ]
    },
    {
      "cell_type": "code",
      "metadata": {
        "colab": {
          "base_uri": "https://localhost:8080/",
          "height": 282
        },
        "id": "_F2DNn37qGfw",
        "outputId": "ac84a885-3126-461a-c7cf-313985b5f929"
      },
      "source": [
        "# Plot different regions and color them \n",
        "output = output.reshape(x_vals.shape)\n",
        "plt.figure()\n",
        "plt.clf()\n",
        "plt.imshow(output, interpolation='nearest',\n",
        "           extent=(x_vals.min(), x_vals.max(), \n",
        "               y_vals.min(), y_vals.max()),\n",
        "           cmap=plt.cm.Paired, \n",
        "           aspect='auto', \n",
        "           origin='lower')"
      ],
      "execution_count": 15,
      "outputs": [
        {
          "output_type": "execute_result",
          "data": {
            "text/plain": [
              "<matplotlib.image.AxesImage at 0x7fbe8e8cb350>"
            ]
          },
          "metadata": {},
          "execution_count": 15
        },
        {
          "output_type": "display_data",
          "data": {
            "image/png": "[encoded data removed]",
            "text/plain": [
              "<Figure size 432x288 with 1 Axes>"
            ]
          },
          "metadata": {
            "needs_background": "light"
          }
        }
      ]
    },
    {
      "cell_type": "code",
      "metadata": {
        "colab": {
          "base_uri": "https://localhost:8080/",
          "height": 282
        },
        "id": "t8EfXlh1qbJh",
        "outputId": "fe2ddbb1-4718-4423-8636-9429baed9626"
      },
      "source": [
        "# Overlay input points\n",
        "plt.scatter(X[:,0], X[:,1], marker='+', facecolors='blue', \n",
        "        edgecolors='red', s=40)"
      ],
      "execution_count": 16,
      "outputs": [
        {
          "output_type": "execute_result",
          "data": {
            "text/plain": [
              "<matplotlib.collections.PathCollection at 0x7fbe8e890790>"
            ]
          },
          "metadata": {},
          "execution_count": 16
        },
        {
          "output_type": "display_data",
          "data": {
            "image/png": "[encoded data removed]",
            "text/plain": [
              "<Figure size 432x288 with 1 Axes>"
            ]
          },
          "metadata": {
            "needs_background": "light"
          }
        }
      ]
    },
    {
      "cell_type": "code",
      "metadata": {
        "colab": {
          "base_uri": "https://localhost:8080/",
          "height": 267
        },
        "id": "FtG1seFyrEqh",
        "outputId": "581b0541-d87c-4636-8a6a-ca901aa574d4"
      },
      "source": [
        "# Plot the centers of clusters\n",
        "cluster_centers = kmeans.cluster_centers_\n",
        "plt.scatter(cluster_centers[:,0], cluster_centers[:,1], \n",
        "        marker='o', s=100, linewidths=4, color='black', \n",
        "        zorder=12, facecolors='black')\n",
        "\n",
        "x_min, x_max = X[:, 0].min() - 1, X[:, 0].max() + 1\n",
        "y_min, y_max = X[:, 1].min() - 1, X[:, 1].max() + 1\n",
        "plt.title('Boundaries of clusters')\n",
        "plt.xlim(x_min, x_max)\n",
        "plt.ylim(y_min, y_max)\n",
        "plt.xticks(())\n",
        "plt.yticks(())\n",
        "\n",
        "plt.show()"
      ],
      "execution_count": 17,
      "outputs": [
        {
          "output_type": "display_data",
          "data": {
            "image/png": "[encoded data removed]",
            "text/plain": [
              "<Figure size 432x288 with 1 Axes>"
            ]
          },
          "metadata": {}
        }
      ]
    },
    {
      "cell_type": "code",
      "metadata": {
        "colab": {
          "base_uri": "https://localhost:8080/",
          "height": 267
        },
        "id": "LmsXY8zer3zv",
        "outputId": "e46069d7-7102-4400-c33f-5fbb0d1d1acb"
      },
      "source": [
        "# Plot different regions and color them \n",
        "output = output.reshape(x_vals.shape)\n",
        "plt.figure()\n",
        "plt.clf()\n",
        "plt.imshow(output, interpolation='nearest',\n",
        "           extent=(x_vals.min(), x_vals.max(), \n",
        "               y_vals.min(), y_vals.max()),\n",
        "           cmap=plt.cm.Paired, \n",
        "           aspect='auto', \n",
        "           origin='lower')\n",
        "\n",
        "\n",
        "# Overlay input points\n",
        "plt.scatter(X[:,0], X[:,1], marker='+', facecolors='blue', \n",
        "        edgecolors='red', s=40)\n",
        "\n",
        "\n",
        "# Plot the centers of clusters\n",
        "cluster_centers = kmeans.cluster_centers_\n",
        "plt.scatter(cluster_centers[:,0], cluster_centers[:,1], \n",
        "        marker='o', s=100, linewidths=4, color='black', \n",
        "        zorder=12, facecolors='black')\n",
        "\n",
        "x_min, x_max = X[:, 0].min() - 1, X[:, 0].max() + 1\n",
        "y_min, y_max = X[:, 1].min() - 1, X[:, 1].max() + 1\n",
        "plt.title('Boundaries of clusters')\n",
        "plt.xlim(x_min, x_max)\n",
        "plt.ylim(y_min, y_max)\n",
        "plt.xticks(())\n",
        "plt.yticks(())\n",
        "\n",
        "plt.show()"
      ],
      "execution_count": 18,
      "outputs": [
        {
          "output_type": "display_data",
          "data": {
            "image/png": "[encoded data removed]",
            "text/plain": [
              "<Figure size 432x288 with 1 Axes>"
            ]
          },
          "metadata": {}
        }
      ]
    },
    {
      "cell_type": "code",
      "metadata": {
        "id": "feRQGs_UvPM9"
      },
      "source": [
        ""
      ],
      "execution_count": 18,
      "outputs": []
    },
    {
      "cell_type": "code",
      "metadata": {
        "colab": {
          "base_uri": "https://localhost:8080/"
        },
        "id": "Cj94VTkNs5wH",
        "outputId": "dd4aa8e6-0207-4e22-c7ec-4f66c3dfc106"
      },
      "source": [
        "dataset = np.array([[2,3], [5,6], [8,7], [1,4], [2,2], [6,7], [3,4], [8,6]])\n",
        "dataset"
      ],
      "execution_count": 19,
      "outputs": [
        {
          "output_type": "execute_result",
          "data": {
            "text/plain": [
              "array([[2, 3],\n",
              "       [5, 6],\n",
              "       [8, 7],\n",
              "       [1, 4],\n",
              "       [2, 2],\n",
              "       [6, 7],\n",
              "       [3, 4],\n",
              "       [8, 6]])"
            ]
          },
          "metadata": {},
          "execution_count": 19
        }
      ]
    },
    {
      "cell_type": "code",
      "metadata": {
        "colab": {
          "base_uri": "https://localhost:8080/"
        },
        "id": "dwFt7sLys5uR",
        "outputId": "5fd23bd4-949f-4e00-d92f-45736faa6379"
      },
      "source": [
        "# Create KMeans object \n",
        "kmeans = KMeans(init='k-means++', n_clusters=2, n_init=10, verbose=1)\n",
        "\n",
        "# Train the KMeans clustering model\n",
        "kmeans.fit(dataset)"
      ],
      "execution_count": 20,
      "outputs": [
        {
          "output_type": "stream",
          "name": "stdout",
          "text": [
            "Initialization complete\n",
            "start iteration\n",
            "done sorting\n",
            "end inner loop\n",
            "Iteration 0, inertia 12.5\n",
            "start iteration\n",
            "done sorting\n",
            "end inner loop\n",
            "Iteration 1, inertia 12.5\n",
            "center shift 0.000000e+00 within tolerance 4.921875e-04\n",
            "Initialization complete\n",
            "start iteration\n",
            "done sorting\n",
            "end inner loop\n",
            "Iteration 0, inertia 12.5\n",
            "start iteration\n",
            "done sorting\n",
            "end inner loop\n",
            "Iteration 1, inertia 12.5\n",
            "center shift 0.000000e+00 within tolerance 4.921875e-04\n",
            "Initialization complete\n",
            "start iteration\n",
            "done sorting\n",
            "end inner loop\n",
            "Iteration 0, inertia 12.5\n",
            "start iteration\n",
            "done sorting\n",
            "end inner loop\n",
            "Iteration 1, inertia 12.5\n",
            "center shift 0.000000e+00 within tolerance 4.921875e-04\n",
            "Initialization complete\n",
            "start iteration\n",
            "done sorting\n",
            "end inner loop\n",
            "Iteration 0, inertia 12.5\n",
            "start iteration\n",
            "done sorting\n",
            "end inner loop\n",
            "Iteration 1, inertia 12.5\n",
            "center shift 0.000000e+00 within tolerance 4.921875e-04\n",
            "Initialization complete\n",
            "start iteration\n",
            "done sorting\n",
            "end inner loop\n",
            "Iteration 0, inertia 21.333333333333336\n",
            "start iteration\n",
            "done sorting\n",
            "end inner loop\n",
            "Iteration 1, inertia 12.5\n",
            "start iteration\n",
            "done sorting\n",
            "end inner loop\n",
            "Iteration 2, inertia 12.5\n",
            "center shift 0.000000e+00 within tolerance 4.921875e-04\n",
            "Initialization complete\n",
            "start iteration\n",
            "done sorting\n",
            "end inner loop\n",
            "Iteration 0, inertia 12.5\n",
            "start iteration\n",
            "done sorting\n",
            "end inner loop\n",
            "Iteration 1, inertia 12.5\n",
            "center shift 0.000000e+00 within tolerance 4.921875e-04\n",
            "Initialization complete\n",
            "start iteration\n",
            "done sorting\n",
            "end inner loop\n",
            "Iteration 0, inertia 12.5\n",
            "start iteration\n",
            "done sorting\n",
            "end inner loop\n",
            "Iteration 1, inertia 12.5\n",
            "center shift 0.000000e+00 within tolerance 4.921875e-04\n",
            "Initialization complete\n",
            "start iteration\n",
            "done sorting\n",
            "end inner loop\n",
            "Iteration 0, inertia 12.5\n",
            "start iteration\n",
            "done sorting\n",
            "end inner loop\n",
            "Iteration 1, inertia 12.5\n",
            "center shift 0.000000e+00 within tolerance 4.921875e-04\n",
            "Initialization complete\n",
            "start iteration\n",
            "done sorting\n",
            "end inner loop\n",
            "Iteration 0, inertia 12.5\n",
            "start iteration\n",
            "done sorting\n",
            "end inner loop\n",
            "Iteration 1, inertia 12.5\n",
            "center shift 0.000000e+00 within tolerance 4.921875e-04\n",
            "Initialization complete\n",
            "start iteration\n",
            "done sorting\n",
            "end inner loop\n",
            "Iteration 0, inertia 12.5\n",
            "start iteration\n",
            "done sorting\n",
            "end inner loop\n",
            "Iteration 1, inertia 12.5\n",
            "center shift 0.000000e+00 within tolerance 4.921875e-04\n"
          ]
        },
        {
          "output_type": "execute_result",
          "data": {
            "text/plain": [
              "KMeans(algorithm='auto', copy_x=True, init='k-means++', max_iter=300,\n",
              "       n_clusters=2, n_init=10, n_jobs=None, precompute_distances='auto',\n",
              "       random_state=None, tol=0.0001, verbose=1)"
            ]
          },
          "metadata": {},
          "execution_count": 20
        }
      ]
    },
    {
      "cell_type": "code",
      "metadata": {
        "id": "XNR4lANYtfy0"
      },
      "source": [
        "# Step size of the mesh\n",
        "step_size = 0.01\n",
        "\n",
        "# Define the grid of points to plot the boundaries\n",
        "x_min, x_max = dataset[:, 0].min() - 1, dataset[:, 0].max() + 1\n",
        "y_min, y_max = dataset[:, 1].min() - 1, dataset[:, 1].max() + 1\n",
        "\n",
        "x_vals, y_vals = np.meshgrid(np.arange(x_min, x_max, step_size), \n",
        "        np.arange(y_min, y_max, step_size))"
      ],
      "execution_count": 21,
      "outputs": []
    },
    {
      "cell_type": "code",
      "metadata": {
        "id": "7i4lwm2kun3A"
      },
      "source": [
        "# Predict output labels for all the points on the grid \n",
        "output = kmeans.predict(np.c_[x_vals.ravel(), y_vals.ravel()])"
      ],
      "execution_count": 22,
      "outputs": []
    },
    {
      "cell_type": "code",
      "metadata": {
        "colab": {
          "base_uri": "https://localhost:8080/",
          "height": 267
        },
        "id": "9eF0X4mutpSl",
        "outputId": "6ce2288a-fb57-4892-d5b4-49ddbd1ebf50"
      },
      "source": [
        "# Plot different regions and color them \n",
        "output = output.reshape(x_vals.shape)\n",
        "plt.figure()\n",
        "plt.clf()\n",
        "plt.imshow(output, interpolation='nearest',\n",
        "           extent=(x_vals.min(), x_vals.max(), \n",
        "               y_vals.min(), y_vals.max()),\n",
        "           cmap=plt.cm.Paired, \n",
        "           aspect='auto', \n",
        "           origin='lower')\n",
        "\n",
        "\n",
        "# Overlay input points\n",
        "plt.scatter(dataset[:,0], dataset[:,1], marker='+', facecolors='blue', \n",
        "        edgecolors='red', s=40)\n",
        "\n",
        "\n",
        "# Plot the centers of clusters\n",
        "cluster_centers = kmeans.cluster_centers_\n",
        "plt.scatter(cluster_centers[:,0], cluster_centers[:,1], \n",
        "        marker='o', s=100, linewidths=4, color='black', \n",
        "        zorder=12, facecolors='black')\n",
        "\n",
        "x_min, x_max = dataset[:, 0].min() - 1, dataset[:, 0].max() + 1\n",
        "y_min, y_max = dataset[:, 1].min() - 1, dataset[:, 1].max() + 1\n",
        "plt.title('Boundaries of clusters')\n",
        "plt.xlim(x_min, x_max)\n",
        "plt.ylim(y_min, y_max)\n",
        "plt.xticks(())\n",
        "plt.yticks(())\n",
        "\n",
        "plt.show()"
      ],
      "execution_count": 23,
      "outputs": [
        {
          "output_type": "display_data",
          "data": {
            "image/png": "[encoded data removed]",
            "text/plain": [
              "<Figure size 432x288 with 1 Axes>"
            ]
          },
          "metadata": {}
        }
      ]
    },
    {
      "cell_type": "code",
      "metadata": {
        "colab": {
          "base_uri": "https://localhost:8080/"
        },
        "id": "KINQGiCytpQl",
        "outputId": "8a14a249-048a-490e-efb0-e8bb32c7f075"
      },
      "source": [
        "cluster_centers"
      ],
      "execution_count": 24,
      "outputs": [
        {
          "output_type": "execute_result",
          "data": {
            "text/plain": [
              "array([[2.  , 3.25],\n",
              "       [6.75, 6.5 ]])"
            ]
          },
          "metadata": {},
          "execution_count": 24
        }
      ]
    }
  ]
}